{
 "cells": [
  {
   "cell_type": "code",
   "execution_count": 66,
   "metadata": {},
   "outputs": [],
   "source": [
    "import pandas as pd\n",
    "pd.options.display.float_format = '{:.3f}'.format\n",
    "pd.options.mode.chained_assignment = None\n",
    "from sklearn.model_selection import cross_val_score\n",
    "\n",
    "from sklearn.ensemble import RandomForestClassifier, AdaBoostClassifier\n",
    "from sklearn.svm import SVC"
   ]
  },
  {
   "cell_type": "code",
   "execution_count": 91,
   "metadata": {},
   "outputs": [],
   "source": [
    "def clean(data):\n",
    "    for col_name in data.columns:\n",
    "        data_col = data[col_name]\n",
    "        \n",
    "        q1 = data_col.quantile(0.25)\n",
    "        q3 = data_col.quantile(0.75)\n",
    "        iqr = q3 - q1\n",
    "\n",
    "        outside_iqr = (data_col < (q1 - 3 * iqr)) | (data_col > (q3 + 3 * iqr))\n",
    "        new_col_mean = data_col[~outside_iqr].mean()\n",
    "\n",
    "        data[col_name][outside_iqr] = new_col_mean\n",
    "        \n",
    "    return data"
   ]
  },
  {
   "cell_type": "code",
   "execution_count": 92,
   "metadata": {},
   "outputs": [],
   "source": [
    "def test(X, y, classifier_cls):\n",
    "    clf = classifier_cls(random_state=0)\n",
    "    scores = cross_val_score(clf, X, y)\n",
    "    return scores.mean()"
   ]
  },
  {
   "cell_type": "code",
   "execution_count": 93,
   "metadata": {},
   "outputs": [],
   "source": [
    "def load_train(section):\n",
    "    train = pd.read_csv('1.{0}/TrainData{0}.txt'.format(section), delim_whitespace=True, header=None)\n",
    "    labels = pd.read_csv('1.{0}/TrainLabel{0}.txt'.format(section), header=None)\n",
    "    labels = labels.rename(columns={0: \"label\"})\n",
    "    \n",
    "    return train, labels\n",
    "\n",
    "def load_test(section):\n",
    "    return pd.read_csv('1.{0}/TestData{0}.txt'.format(section), delim_whitespace=True, header=None)"
   ]
  },
  {
   "cell_type": "code",
   "execution_count": 94,
   "metadata": {},
   "outputs": [],
   "source": [
    "def find_best_classifier(section, classifiers):\n",
    "    train, labels = load_train(section)\n",
    "    cleaned_train = clean(train)\n",
    "    X, y = cleaned_train, labels.iloc[:,0]\n",
    "\n",
    "    best_classifier = classifiers[0]\n",
    "    best_score = test(X, y, best_classifier)\n",
    "    \n",
    "    for curr_classifier in classifiers:\n",
    "        curr_score = test(X, y, curr_classifier)\n",
    "        \n",
    "        print('Section 1.{} with classifier {} got score: {}'.format(section, curr_classifier.__name__, curr_score))\n",
    "        \n",
    "        if curr_score > best_score:\n",
    "            best_score = curr_score\n",
    "            best_classifier = curr_classifier\n",
    "    \n",
    "    print('***\\nBest classifier found for section 1.{} is {} with score: {}\\n***'.format(section, best_classifier.__name__, best_score))\n",
    "    clf = best_classifier(random_state=0)\n",
    "    return clf.fit(X, y)"
   ]
  },
  {
   "cell_type": "code",
   "execution_count": 95,
   "metadata": {},
   "outputs": [],
   "source": [
    "def predict(section, model):\n",
    "    test = load_test(section)\n",
    "    cleaned_test = clean(test)\n",
    "    predictions = model.predict(cleaned_test)\n",
    "    pd.Series(predictions).to_csv('scikit_predictions{}.txt'.format(section), sep='\\t', index=False, header=False)\n",
    "    \n",
    "    return predictions"
   ]
  },
  {
   "cell_type": "code",
   "execution_count": 97,
   "metadata": {},
   "outputs": [
    {
     "name": "stdout",
     "output_type": "stream",
     "text": [
      "Section 1.1 with classifier RandomForestClassifier got score: 0.8876633986928105\n",
      "Section 1.1 with classifier SVC got score: 0.8071895424836603\n",
      "Section 1.1 with classifier AdaBoostClassifier got score: 0.8472222222222223\n",
      "***\n",
      "Best classifier found for section 1.1 is RandomForestClassifier with score: 0.8876633986928105\n",
      "***\n",
      "Section 1.2 with classifier RandomForestClassifier got score: 0.8216453213337949\n",
      "Section 1.2 with classifier SVC got score: 0.4184697441706788\n",
      "Section 1.2 with classifier AdaBoostClassifier got score: 0.6824024250815528\n",
      "***\n",
      "Best classifier found for section 1.2 is RandomForestClassifier with score: 0.8216453213337949\n",
      "***\n",
      "Section 1.3 with classifier RandomForestClassifier got score: 0.2947628939359825\n",
      "Section 1.3 with classifier SVC got score: 0.33127377173805145\n",
      "Section 1.3 with classifier AdaBoostClassifier got score: 0.3173042818786422\n",
      "***\n",
      "Best classifier found for section 1.3 is SVC with score: 0.33127377173805145\n",
      "***\n",
      "Section 1.4 with classifier RandomForestClassifier got score: 0.38619502253841936\n",
      "Section 1.4 with classifier SVC got score: 0.11699998082203804\n",
      "Section 1.4 with classifier AdaBoostClassifier got score: 0.13457050405135426\n",
      "***\n",
      "Best classifier found for section 1.4 is RandomForestClassifier with score: 0.38619502253841936\n",
      "***\n",
      "Section 1.5 with classifier RandomForestClassifier got score: 0.524635494235537\n",
      "Section 1.5 with classifier SVC got score: 0.47359396036973095\n",
      "Section 1.5 with classifier AdaBoostClassifier got score: 0.5398084887620475\n",
      "***\n",
      "Best classifier found for section 1.5 is AdaBoostClassifier with score: 0.5398084887620475\n",
      "***\n"
     ]
    }
   ],
   "source": [
    "sections = list(range(1, 6))\n",
    "classifiers = [RandomForestClassifier, SVC, AdaBoostClassifier]\n",
    "\n",
    "for section in sections:\n",
    "    model = find_best_classifier(section, classifiers)\n",
    "    predict(section, model)"
   ]
  },
  {
   "cell_type": "code",
   "execution_count": null,
   "metadata": {},
   "outputs": [],
   "source": []
  }
 ],
 "metadata": {
  "kernelspec": {
   "display_name": "Python 3",
   "language": "python",
   "name": "python3"
  },
  "language_info": {
   "codemirror_mode": {
    "name": "ipython",
    "version": 3
   },
   "file_extension": ".py",
   "mimetype": "text/x-python",
   "name": "python",
   "nbconvert_exporter": "python",
   "pygments_lexer": "ipython3",
   "version": "3.4.3"
  }
 },
 "nbformat": 4,
 "nbformat_minor": 2
}
