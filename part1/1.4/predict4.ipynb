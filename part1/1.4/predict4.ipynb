{
 "cells": [
  {
   "cell_type": "code",
   "execution_count": 1,
   "metadata": {},
   "outputs": [],
   "source": [
    "%matplotlib inline\n",
    "\n",
    "from time import time\n",
    "\n",
    "from math import sqrt, floor\n",
    "import numpy as np\n",
    "\n",
    "import matplotlib.pyplot as plt\n",
    "plt.style.use = \"default\"\n",
    "\n",
    "import pandas as pd\n",
    "pd.options.display.float_format = '{:.3f}'.format\n",
    "\n",
    "from IPython.core.debugger import set_trace\n",
    "\n",
    "import sys\n",
    "sys.path.append('../../')\n",
    "from rfc import RandomForest\n",
    "from Experiment import Experiment"
   ]
  },
  {
   "cell_type": "code",
   "execution_count": 2,
   "metadata": {},
   "outputs": [],
   "source": [
    "train = pd.read_csv(\"cleaned_train.csv\")\n",
    "labels = pd.read_csv(\"cleaned_labels.csv\")\n",
    "test = pd.read_csv(\"TestData4.txt\", sep='\\t', header=None)"
   ]
  },
  {
   "cell_type": "code",
   "execution_count": 3,
   "metadata": {},
   "outputs": [],
   "source": [
    "train = train.drop(train.columns[0], axis=1)\n",
    "labels = labels.drop(labels.columns[0], axis=1) \n",
    "labels = labels.rename(columns={\"1\":\"label\"})"
   ]
  },
  {
   "cell_type": "code",
   "execution_count": 4,
   "metadata": {},
   "outputs": [
    {
     "data": {
      "text/html": [
       "<div>\n",
       "<style scoped>\n",
       "    .dataframe tbody tr th:only-of-type {\n",
       "        vertical-align: middle;\n",
       "    }\n",
       "\n",
       "    .dataframe tbody tr th {\n",
       "        vertical-align: top;\n",
       "    }\n",
       "\n",
       "    .dataframe thead th {\n",
       "        text-align: right;\n",
       "    }\n",
       "</style>\n",
       "<table border=\"1\" class=\"dataframe\">\n",
       "  <thead>\n",
       "    <tr style=\"text-align: right;\">\n",
       "      <th></th>\n",
       "      <th>0</th>\n",
       "      <th>2</th>\n",
       "      <th>3</th>\n",
       "      <th>4</th>\n",
       "      <th>5</th>\n",
       "      <th>6</th>\n",
       "      <th>7</th>\n",
       "      <th>8</th>\n",
       "      <th>9</th>\n",
       "      <th>11</th>\n",
       "      <th>...</th>\n",
       "      <th>93</th>\n",
       "      <th>94</th>\n",
       "      <th>95</th>\n",
       "      <th>98</th>\n",
       "      <th>99</th>\n",
       "      <th>100</th>\n",
       "      <th>101</th>\n",
       "      <th>102</th>\n",
       "      <th>103</th>\n",
       "      <th>104</th>\n",
       "    </tr>\n",
       "  </thead>\n",
       "  <tbody>\n",
       "    <tr>\n",
       "      <th>count</th>\n",
       "      <td>2426.000</td>\n",
       "      <td>2426.000</td>\n",
       "      <td>2426.000</td>\n",
       "      <td>2426.000</td>\n",
       "      <td>2426.000</td>\n",
       "      <td>2426.000</td>\n",
       "      <td>2426.000</td>\n",
       "      <td>2426.000</td>\n",
       "      <td>2426.000</td>\n",
       "      <td>2426.000</td>\n",
       "      <td>...</td>\n",
       "      <td>2426.000</td>\n",
       "      <td>2426.000</td>\n",
       "      <td>2426.000</td>\n",
       "      <td>2426.000</td>\n",
       "      <td>2426.000</td>\n",
       "      <td>2426.000</td>\n",
       "      <td>2426.000</td>\n",
       "      <td>2426.000</td>\n",
       "      <td>2426.000</td>\n",
       "      <td>2426.000</td>\n",
       "    </tr>\n",
       "    <tr>\n",
       "      <th>mean</th>\n",
       "      <td>-0.088</td>\n",
       "      <td>-0.097</td>\n",
       "      <td>-0.054</td>\n",
       "      <td>-0.031</td>\n",
       "      <td>-0.052</td>\n",
       "      <td>-0.052</td>\n",
       "      <td>-0.048</td>\n",
       "      <td>-0.035</td>\n",
       "      <td>0.096</td>\n",
       "      <td>0.102</td>\n",
       "      <td>...</td>\n",
       "      <td>-60.860</td>\n",
       "      <td>21.468</td>\n",
       "      <td>10.801</td>\n",
       "      <td>-1.202</td>\n",
       "      <td>-18.504</td>\n",
       "      <td>-4.931</td>\n",
       "      <td>54.302</td>\n",
       "      <td>-42.578</td>\n",
       "      <td>4.864</td>\n",
       "      <td>-4.876</td>\n",
       "    </tr>\n",
       "    <tr>\n",
       "      <th>std</th>\n",
       "      <td>0.061</td>\n",
       "      <td>0.060</td>\n",
       "      <td>0.036</td>\n",
       "      <td>0.028</td>\n",
       "      <td>0.035</td>\n",
       "      <td>0.090</td>\n",
       "      <td>0.097</td>\n",
       "      <td>0.088</td>\n",
       "      <td>0.062</td>\n",
       "      <td>0.053</td>\n",
       "      <td>...</td>\n",
       "      <td>159.587</td>\n",
       "      <td>167.345</td>\n",
       "      <td>165.829</td>\n",
       "      <td>169.627</td>\n",
       "      <td>146.294</td>\n",
       "      <td>166.158</td>\n",
       "      <td>182.593</td>\n",
       "      <td>167.709</td>\n",
       "      <td>174.793</td>\n",
       "      <td>178.281</td>\n",
       "    </tr>\n",
       "    <tr>\n",
       "      <th>min</th>\n",
       "      <td>-0.444</td>\n",
       "      <td>-0.555</td>\n",
       "      <td>-0.263</td>\n",
       "      <td>-0.417</td>\n",
       "      <td>-0.353</td>\n",
       "      <td>-0.769</td>\n",
       "      <td>-0.413</td>\n",
       "      <td>-0.520</td>\n",
       "      <td>-0.007</td>\n",
       "      <td>0.007</td>\n",
       "      <td>...</td>\n",
       "      <td>-313.370</td>\n",
       "      <td>-325.880</td>\n",
       "      <td>-336.730</td>\n",
       "      <td>-227.760</td>\n",
       "      <td>-271.360</td>\n",
       "      <td>-310.110</td>\n",
       "      <td>-332.170</td>\n",
       "      <td>-316.170</td>\n",
       "      <td>-282.080</td>\n",
       "      <td>-280.250</td>\n",
       "    </tr>\n",
       "    <tr>\n",
       "      <th>25%</th>\n",
       "      <td>-0.107</td>\n",
       "      <td>-0.124</td>\n",
       "      <td>-0.070</td>\n",
       "      <td>-0.037</td>\n",
       "      <td>-0.056</td>\n",
       "      <td>-0.113</td>\n",
       "      <td>-0.100</td>\n",
       "      <td>-0.079</td>\n",
       "      <td>0.049</td>\n",
       "      <td>0.063</td>\n",
       "      <td>...</td>\n",
       "      <td>-180.127</td>\n",
       "      <td>-152.282</td>\n",
       "      <td>-174.320</td>\n",
       "      <td>-169.667</td>\n",
       "      <td>-152.518</td>\n",
       "      <td>-168.702</td>\n",
       "      <td>-169.053</td>\n",
       "      <td>-174.555</td>\n",
       "      <td>-173.030</td>\n",
       "      <td>-176.910</td>\n",
       "    </tr>\n",
       "    <tr>\n",
       "      <th>50%</th>\n",
       "      <td>-0.071</td>\n",
       "      <td>-0.085</td>\n",
       "      <td>-0.047</td>\n",
       "      <td>-0.023</td>\n",
       "      <td>-0.045</td>\n",
       "      <td>-0.021</td>\n",
       "      <td>-0.033</td>\n",
       "      <td>-0.017</td>\n",
       "      <td>0.078</td>\n",
       "      <td>0.095</td>\n",
       "      <td>...</td>\n",
       "      <td>-163.235</td>\n",
       "      <td>47.041</td>\n",
       "      <td>81.007</td>\n",
       "      <td>-97.572</td>\n",
       "      <td>-76.099</td>\n",
       "      <td>-41.926</td>\n",
       "      <td>144.305</td>\n",
       "      <td>-134.325</td>\n",
       "      <td>45.209</td>\n",
       "      <td>-148.535</td>\n",
       "    </tr>\n",
       "    <tr>\n",
       "      <th>75%</th>\n",
       "      <td>-0.047</td>\n",
       "      <td>-0.056</td>\n",
       "      <td>-0.027</td>\n",
       "      <td>-0.015</td>\n",
       "      <td>-0.030</td>\n",
       "      <td>-0.001</td>\n",
       "      <td>0.018</td>\n",
       "      <td>0.028</td>\n",
       "      <td>0.135</td>\n",
       "      <td>0.131</td>\n",
       "      <td>...</td>\n",
       "      <td>139.828</td>\n",
       "      <td>181.405</td>\n",
       "      <td>177.153</td>\n",
       "      <td>178.370</td>\n",
       "      <td>141.220</td>\n",
       "      <td>173.343</td>\n",
       "      <td>202.565</td>\n",
       "      <td>153.748</td>\n",
       "      <td>180.370</td>\n",
       "      <td>181.343</td>\n",
       "    </tr>\n",
       "    <tr>\n",
       "      <th>max</th>\n",
       "      <td>-0.004</td>\n",
       "      <td>-0.004</td>\n",
       "      <td>-0.005</td>\n",
       "      <td>-0.002</td>\n",
       "      <td>-0.006</td>\n",
       "      <td>0.268</td>\n",
       "      <td>0.117</td>\n",
       "      <td>0.242</td>\n",
       "      <td>0.397</td>\n",
       "      <td>0.458</td>\n",
       "      <td>...</td>\n",
       "      <td>336.190</td>\n",
       "      <td>316.740</td>\n",
       "      <td>329.290</td>\n",
       "      <td>243.330</td>\n",
       "      <td>304.770</td>\n",
       "      <td>295.130</td>\n",
       "      <td>340.140</td>\n",
       "      <td>325.130</td>\n",
       "      <td>323.020</td>\n",
       "      <td>260.090</td>\n",
       "    </tr>\n",
       "  </tbody>\n",
       "</table>\n",
       "<p>8 rows × 84 columns</p>\n",
       "</div>"
      ],
      "text/plain": [
       "             0        2        3        4        5        6        7        8  \\\n",
       "count 2426.000 2426.000 2426.000 2426.000 2426.000 2426.000 2426.000 2426.000   \n",
       "mean    -0.088   -0.097   -0.054   -0.031   -0.052   -0.052   -0.048   -0.035   \n",
       "std      0.061    0.060    0.036    0.028    0.035    0.090    0.097    0.088   \n",
       "min     -0.444   -0.555   -0.263   -0.417   -0.353   -0.769   -0.413   -0.520   \n",
       "25%     -0.107   -0.124   -0.070   -0.037   -0.056   -0.113   -0.100   -0.079   \n",
       "50%     -0.071   -0.085   -0.047   -0.023   -0.045   -0.021   -0.033   -0.017   \n",
       "75%     -0.047   -0.056   -0.027   -0.015   -0.030   -0.001    0.018    0.028   \n",
       "max     -0.004   -0.004   -0.005   -0.002   -0.006    0.268    0.117    0.242   \n",
       "\n",
       "             9       11   ...          93       94       95       98       99  \\\n",
       "count 2426.000 2426.000   ...    2426.000 2426.000 2426.000 2426.000 2426.000   \n",
       "mean     0.096    0.102   ...     -60.860   21.468   10.801   -1.202  -18.504   \n",
       "std      0.062    0.053   ...     159.587  167.345  165.829  169.627  146.294   \n",
       "min     -0.007    0.007   ...    -313.370 -325.880 -336.730 -227.760 -271.360   \n",
       "25%      0.049    0.063   ...    -180.127 -152.282 -174.320 -169.667 -152.518   \n",
       "50%      0.078    0.095   ...    -163.235   47.041   81.007  -97.572  -76.099   \n",
       "75%      0.135    0.131   ...     139.828  181.405  177.153  178.370  141.220   \n",
       "max      0.397    0.458   ...     336.190  316.740  329.290  243.330  304.770   \n",
       "\n",
       "           100      101      102      103      104  \n",
       "count 2426.000 2426.000 2426.000 2426.000 2426.000  \n",
       "mean    -4.931   54.302  -42.578    4.864   -4.876  \n",
       "std    166.158  182.593  167.709  174.793  178.281  \n",
       "min   -310.110 -332.170 -316.170 -282.080 -280.250  \n",
       "25%   -168.702 -169.053 -174.555 -173.030 -176.910  \n",
       "50%    -41.926  144.305 -134.325   45.209 -148.535  \n",
       "75%    173.343  202.565  153.748  180.370  181.343  \n",
       "max    295.130  340.140  325.130  323.020  260.090  \n",
       "\n",
       "[8 rows x 84 columns]"
      ]
     },
     "execution_count": 4,
     "metadata": {},
     "output_type": "execute_result"
    }
   ],
   "source": [
    "train.describe()"
   ]
  },
  {
   "cell_type": "code",
   "execution_count": 5,
   "metadata": {},
   "outputs": [],
   "source": [
    "def merge(df, labels):\n",
    "    return labels.merge(df, left_index=True,right_index=True)"
   ]
  },
  {
   "cell_type": "code",
   "execution_count": 6,
   "metadata": {},
   "outputs": [],
   "source": [
    "def mprint(*args):\n",
    "    for arg in args:\n",
    "        print(arg)\n",
    "        print(\" \")"
   ]
  },
  {
   "cell_type": "code",
   "execution_count": 7,
   "metadata": {},
   "outputs": [],
   "source": [
    "m = merge(train, labels).groupby(\"label\").describe()"
   ]
  },
  {
   "cell_type": "code",
   "execution_count": 8,
   "metadata": {},
   "outputs": [
    {
     "data": {
      "text/plain": [
       "label\n",
       "1   0.111\n",
       "2   0.111\n",
       "3   0.111\n",
       "4   0.111\n",
       "5   0.111\n",
       "6   0.111\n",
       "7   0.111\n",
       "8   0.111\n",
       "9   0.111\n",
       "dtype: float64"
      ]
     },
     "execution_count": 8,
     "metadata": {},
     "output_type": "execute_result"
    }
   ],
   "source": [
    "m.groupby(\"label\").count().apply(lambda x: x / m.shape[0]).T.mean()"
   ]
  },
  {
   "cell_type": "code",
   "execution_count": 9,
   "metadata": {},
   "outputs": [
    {
     "data": {
      "text/plain": [
       "label\n",
       "1   0.093\n",
       "2   0.073\n",
       "3   0.093\n",
       "4   0.100\n",
       "5   0.120\n",
       "6   0.127\n",
       "7   0.113\n",
       "8   0.167\n",
       "9   0.113\n",
       "dtype: float64"
      ]
     },
     "execution_count": 9,
     "metadata": {},
     "output_type": "execute_result"
    }
   ],
   "source": [
    "s_rows = 150\n",
    "row_indices = np.random.choice(train.shape[0], size=s_rows, replace=False)\n",
    "merge(train.iloc[row_indices], labels).groupby(\"label\").count().apply(lambda x: x / s_rows).T.mean()"
   ]
  },
  {
   "cell_type": "code",
   "execution_count": 10,
   "metadata": {},
   "outputs": [],
   "source": [
    "init_config_names = [\"num_trees\", \"num_features\", \"num_sample_rows\", \"max_tree_depth\", \"min_split_samples\", \"bias_class\", \"bias_amount\"]\n",
    "init_config_values = [   10,          None,           100,              20,                5,                 None,            0]\n",
    "\n",
    "e = Experiment(train, labels, RandomForest, init_config_names, init_config_values, verbose=False)"
   ]
  },
  {
   "cell_type": "code",
   "execution_count": null,
   "metadata": {},
   "outputs": [
    {
     "name": "stdout",
     "output_type": "stream",
     "text": [
      "Running trail #1\n",
      "------------------------------------\n",
      " \n",
      "*************************\n",
      " \n",
      "Running fold 1 of 10\n",
      " \n",
      "*************************\n",
      " \n",
      "fold 1 took 377.8190190792084s\n",
      " \n",
      "*************************\n",
      " \n",
      "Running fold 2 of 10\n",
      " \n",
      "*************************\n",
      " \n"
     ]
    },
    {
     "name": "stderr",
     "output_type": "stream",
     "text": [
      "/usr/local/Cellar/python3/3.5.0/Frameworks/Python.framework/Versions/3.5/lib/python3.5/site-packages/sklearn/metrics/classification.py:1135: UndefinedMetricWarning: Precision and F-score are ill-defined and being set to 0.0 in labels with no predicted samples.\n",
      "  'precision', 'predicted', average, warn_for)\n"
     ]
    },
    {
     "name": "stdout",
     "output_type": "stream",
     "text": [
      "fold 2 took 265.1831178665161s\n",
      " \n",
      "*************************\n",
      " \n",
      "Running fold 3 of 10\n",
      " \n",
      "*************************\n",
      " \n",
      "fold 3 took 305.0095889568329s\n",
      " \n",
      "*************************\n",
      " \n",
      "Running fold 4 of 10\n",
      " \n",
      "*************************\n",
      " \n",
      "fold 4 took 233.12777304649353s\n",
      " \n",
      "*************************\n",
      " \n",
      "Running fold 5 of 10\n",
      " \n",
      "*************************\n",
      " \n",
      "fold 5 took 233.93695306777954s\n",
      " \n",
      "*************************\n",
      " \n",
      "Running fold 6 of 10\n",
      " \n",
      "*************************\n",
      " \n",
      "fold 6 took 191.26659989356995s\n",
      " \n",
      "*************************\n",
      " \n",
      "Running fold 7 of 10\n",
      " \n",
      "*************************\n",
      " \n",
      "fold 7 took 169.2561810016632s\n",
      " \n",
      "*************************\n",
      " \n",
      "Running fold 8 of 10\n",
      " \n",
      "*************************\n",
      " \n",
      "fold 8 took 188.37684893608093s\n",
      " \n",
      "*************************\n",
      " \n",
      "Running fold 9 of 10\n",
      " \n",
      "*************************\n",
      " \n"
     ]
    }
   ],
   "source": [
    "e.run_trial()"
   ]
  },
  {
   "cell_type": "code",
   "execution_count": null,
   "metadata": {},
   "outputs": [],
   "source": [
    "perf, train_test = e.trial_results()"
   ]
  },
  {
   "cell_type": "code",
   "execution_count": null,
   "metadata": {},
   "outputs": [],
   "source": [
    "perf"
   ]
  },
  {
   "cell_type": "code",
   "execution_count": null,
   "metadata": {},
   "outputs": [],
   "source": [
    "e.experiment_data[0][2].value_counts()"
   ]
  },
  {
   "cell_type": "code",
   "execution_count": null,
   "metadata": {},
   "outputs": [],
   "source": [
    "e.tweak(\"num_trees\", 20).tweak(\"num_features\", 20).tweak(\"num_split_samples\", 2).tweak(\"num_sample_rows\", 150)"
   ]
  },
  {
   "cell_type": "code",
   "execution_count": null,
   "metadata": {},
   "outputs": [],
   "source": [
    "e.run_trial()"
   ]
  },
  {
   "cell_type": "code",
   "execution_count": null,
   "metadata": {},
   "outputs": [],
   "source": [
    "perf, train_test = e.trial_results()"
   ]
  },
  {
   "cell_type": "code",
   "execution_count": null,
   "metadata": {},
   "outputs": [],
   "source": [
    "perf"
   ]
  },
  {
   "cell_type": "code",
   "execution_count": null,
   "metadata": {},
   "outputs": [],
   "source": [
    "e.tweak(\"num_trees\", 30).tweak(\"num_features\", 20).tweak(\"num_split_samples\", 2).tweak(\"num_sample_rows\", 50)"
   ]
  },
  {
   "cell_type": "code",
   "execution_count": null,
   "metadata": {},
   "outputs": [],
   "source": [
    "selections = e.run_trial()"
   ]
  },
  {
   "cell_type": "code",
   "execution_count": null,
   "metadata": {},
   "outputs": [],
   "source": [
    "perf, train_test = e.trial_results()\n",
    "perf"
   ]
  },
  {
   "cell_type": "code",
   "execution_count": null,
   "metadata": {},
   "outputs": [],
   "source": [
    "e14 = e"
   ]
  },
  {
   "cell_type": "code",
   "execution_count": null,
   "metadata": {},
   "outputs": [],
   "source": [
    "%store e14"
   ]
  },
  {
   "cell_type": "code",
   "execution_count": null,
   "metadata": {},
   "outputs": [],
   "source": [
    "e.experiment_data[-1][0].predict(test).to_csv(\"predictions4.txt\", sep=\"\\t\", index=False, header=False)"
   ]
  }
 ],
 "metadata": {
  "kernelspec": {
   "display_name": "Python 3",
   "language": "python",
   "name": "python3"
  },
  "language_info": {
   "codemirror_mode": {
    "name": "ipython",
    "version": 3
   },
   "file_extension": ".py",
   "mimetype": "text/x-python",
   "name": "python",
   "nbconvert_exporter": "python",
   "pygments_lexer": "ipython3",
   "version": "3.5.0"
  }
 },
 "nbformat": 4,
 "nbformat_minor": 2
}
